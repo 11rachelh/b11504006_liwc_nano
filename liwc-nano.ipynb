{
 "cells": [
  {
   "cell_type": "code",
   "execution_count": 1,
   "id": "d85fa86b",
   "metadata": {},
   "outputs": [
    {
     "name": "stdout",
     "output_type": "stream",
     "text": [
      "Total Words: 368\n",
      "Percentage of Positive Words: 3.26%\n",
      "Percentage of Negative Words: 2.72%\n"
     ]
    }
   ],
   "source": [
    "def load_dict(filepath: str) -> list:\n",
    "    dict = []\n",
    "    with open(filepath, \"r\", encoding=\"utf-8\") as f:\n",
    "        for line in f:\n",
    "            word = line.strip()\n",
    "            if word.endswith('*'):\n",
    "                word = word[:-1]\n",
    "            if word:\n",
    "                dict.append(word)\n",
    "    return dict\n",
    "\n",
    "posemo = load_dict(\"dict_posemo.txt\")\n",
    "negemo = load_dict(\"dict_negemo.txt\")\n",
    "#print(f\"Loaded {len(posemo)} positive words\")\n",
    "#print(posemo[:20])\n",
    "\n",
    "#print(f\"Loaded {len(negemo)} negative words\")\n",
    "#print(negemo[:20])\n",
    "\n",
    "text = input(\"input text: \")\n",
    "n = len(text.split())\n",
    "\n",
    "words = text.lower().split()\n",
    "pos_count = sum(any(word.startswith(p) for p in posemo) for word in words)\n",
    "neg_count = sum(any(word.startswith(n) for n in negemo) for word in words)\n",
    "print(f\"Total Words: {n}\")\n",
    "print(f\"Percentage of Positive Words: {pos_count / n * 100 if n > 0 else 0:.2f}%\")\n",
    "print(f\"Percentage of Negative Words: {neg_count / n * 100 if n > 0 else 0:.2f}%\")"
   ]
  },
  {
   "cell_type": "code",
   "execution_count": null,
   "id": "b4606470",
   "metadata": {},
   "outputs": [],
   "source": []
  },
  {
   "cell_type": "code",
   "execution_count": null,
   "id": "1b6be71b",
   "metadata": {},
   "outputs": [],
   "source": []
  },
  {
   "cell_type": "code",
   "execution_count": null,
   "id": "b30ca116",
   "metadata": {},
   "outputs": [],
   "source": []
  }
 ],
 "metadata": {
  "kernelspec": {
   "display_name": "base",
   "language": "python",
   "name": "python3"
  },
  "language_info": {
   "codemirror_mode": {
    "name": "ipython",
    "version": 3
   },
   "file_extension": ".py",
   "mimetype": "text/x-python",
   "name": "python",
   "nbconvert_exporter": "python",
   "pygments_lexer": "ipython3",
   "version": "3.8.3"
  }
 },
 "nbformat": 4,
 "nbformat_minor": 5
}
